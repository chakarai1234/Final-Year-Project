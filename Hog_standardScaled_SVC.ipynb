{
 "cells": [
  {
   "cell_type": "code",
   "execution_count": null,
   "metadata": {},
   "outputs": [],
   "source": [
    "from load_neu import load_neu_data_notnormalized\n",
    "from sklearn.svm import SVC\n",
    "from skimage.feature import hog\n",
    "import numpy as np\n",
    "import pandas as pd\n",
    "import matplotlib.pyplot as plt\n",
    "%matplotlib inline\n",
    "from sklearn.preprocessing import StandardScaler\n",
    "from sklearn.metrics import classification_report , confusion_matrix"
   ]
  },
  {
   "cell_type": "code",
   "execution_count": null,
   "metadata": {},
   "outputs": [],
   "source": [
    "(x_train,x_test),(y_train,y_test) = load_neu_data_notnormalized(shuffle=True,random_state=21)"
   ]
  },
  {
   "cell_type": "code",
   "execution_count": null,
   "metadata": {},
   "outputs": [],
   "source": [
    "print(x_train.shape,\"\",y_train.shape)\n",
    "print(x_test.shape,\"\",y_test.shape)"
   ]
  },
  {
   "cell_type": "code",
   "execution_count": null,
   "metadata": {},
   "outputs": [],
   "source": [
    "rows = 3\n",
    "cols = 3\n",
    "fig, ax = plt.subplots(ncols=cols,nrows=rows,figsize=(rows*3,cols*3))\n",
    "for i in range(rows):\n",
    "    for j in range(cols):\n",
    "        value = np.random.randint(0,len(x_train))\n",
    "        ax[i][j].imshow(x_train[value].reshape(200,200),cmap=plt.cm.binary)\n",
    "        ax[i][j].set_title(f'Class {y_train[value]}')\n",
    "        ax[i][j].axis('off')\n",
    "fig.tight_layout()"
   ]
  },
  {
   "cell_type": "code",
   "execution_count": null,
   "metadata": {},
   "outputs": [],
   "source": [
    "x_hog_train = []\n",
    "for x in x_train:\n",
    "    fd , hogs = hog(x, orientations=16, pixels_per_cell=(16, 16),cells_per_block=(2, 2),\n",
    "                    visualize=True, multichannel=True,block_norm='L2')\n",
    "    x_hog_train.append(hogs)\n",
    "x_hog_train = np.array(x_hog_train)"
   ]
  },
  {
   "cell_type": "code",
   "execution_count": null,
   "metadata": {},
   "outputs": [],
   "source": [
    "x_hog_test = []\n",
    "for x in x_test:\n",
    "    fd , hogs = hog(x, orientations=16, pixels_per_cell=(16, 16),cells_per_block=(2, 2),\n",
    "                    visualize=True, multichannel=True,block_norm='L2')\n",
    "    x_hog_test.append(hogs)\n",
    "x_hog_test = np.array(x_hog_test)"
   ]
  },
  {
   "cell_type": "code",
   "execution_count": null,
   "metadata": {},
   "outputs": [],
   "source": [
    "x_hog_train = x_hog_train.reshape(-1,200*200)\n",
    "x_hog_test = x_hog_test.reshape(-1,200*200)\n",
    "print(x_hog_train.shape)\n",
    "print(x_hog_test.shape)\n",
    "print(y_train.shape)\n",
    "print(y_test.shape)"
   ]
  },
  {
   "cell_type": "code",
   "execution_count": null,
   "metadata": {},
   "outputs": [],
   "source": [
    "scaler = StandardScaler()\n",
    "x_hog_train = scaler.fit_transform(x_hog_train)\n",
    "x_hog_test = scaler.fit_transform(x_hog_test)"
   ]
  },
  {
   "cell_type": "code",
   "execution_count": null,
   "metadata": {},
   "outputs": [],
   "source": [
    "rows = 3\n",
    "cols = 3\n",
    "fig, ax = plt.subplots(ncols=cols,nrows=rows,figsize=(rows*3,cols*3))\n",
    "for i in range(rows):\n",
    "    for j in range(cols):\n",
    "        value = np.random.randint(0,len(x_train))\n",
    "        ax[i][j].imshow(x_hog_train[value].reshape(200,200),cmap=plt.cm.binary)\n",
    "        ax[i][j].set_title(f'Class {y_train[value]}')\n",
    "        ax[i][j].axis('off')\n",
    "fig.tight_layout()"
   ]
  },
  {
   "cell_type": "code",
   "execution_count": null,
   "metadata": {},
   "outputs": [],
   "source": [
    "model = SVC(C=1e2)"
   ]
  },
  {
   "cell_type": "code",
   "execution_count": null,
   "metadata": {},
   "outputs": [],
   "source": [
    "model.fit(x_hog_train,y_train)"
   ]
  },
  {
   "cell_type": "code",
   "execution_count": null,
   "metadata": {},
   "outputs": [],
   "source": [
    "model.score(x_hog_test,y_test)"
   ]
  },
  {
   "cell_type": "code",
   "execution_count": null,
   "metadata": {},
   "outputs": [],
   "source": [
    "y_pred = model.predict(x_hog_test)"
   ]
  },
  {
   "cell_type": "code",
   "execution_count": null,
   "metadata": {},
   "outputs": [],
   "source": [
    "label = np.array(['Crazing', 'Inclusion', 'Patches', 'Pitted Surface', 'Rolled In Scale', 'Scratches'])\n",
    "labels = np.array([' ','Cr', 'In', 'Pa', 'PS', 'RS', 'Sc'])\n",
    "print(classification_report(y_test,y_pred,target_names=label))"
   ]
  },
  {
   "cell_type": "code",
   "execution_count": null,
   "metadata": {},
   "outputs": [],
   "source": [
    "confusionMatrix = confusion_matrix(y_test,y_pred)\n",
    "print(confusionMatrix)"
   ]
  },
  {
   "cell_type": "code",
   "execution_count": null,
   "metadata": {},
   "outputs": [],
   "source": [
    "fig,ax = plt.subplots(figsize=(10,8))\n",
    "im = ax.imshow(confusionMatrix, cmap=plt.cm.Blues)\n",
    "ax.figure.colorbar(im, ax=ax)\n",
    "ax.set_xlabel(\"Actual Label\",fontsize=16)\n",
    "ax.set_ylabel(\"Predicted Label\",fontsize=16)\n",
    "ax.set_xticklabels(labels,fontsize=18)\n",
    "ax.set_yticklabels(labels,fontsize=18)\n",
    "thresh = confusionMatrix.max() / 4.\n",
    "for i in range(confusionMatrix.shape[0]):\n",
    "        for j in range(confusionMatrix.shape[1]):\n",
    "            ax.text(j, i, format(confusionMatrix[i, j], ''),fontsize=\"14\",\n",
    "                    ha=\"center\", va=\"center\",\n",
    "                    color=\"white\" if confusionMatrix[i, j] > thresh else \"black\")\n",
    "fig.tight_layout(h_pad=0,w_pad=0)\n",
    "plt.show()"
   ]
  },
  {
   "cell_type": "code",
   "execution_count": null,
   "metadata": {},
   "outputs": [],
   "source": []
  }
 ],
 "metadata": {
  "kernelspec": {
   "display_name": "Python 3",
   "language": "python",
   "name": "python3"
  },
  "language_info": {
   "codemirror_mode": {
    "name": "ipython",
    "version": 3
   },
   "file_extension": ".py",
   "mimetype": "text/x-python",
   "name": "python",
   "nbconvert_exporter": "python",
   "pygments_lexer": "ipython3",
   "version": "3.6.12"
  },
  "varInspector": {
   "cols": {
    "lenName": 16,
    "lenType": 16,
    "lenVar": 40
   },
   "kernels_config": {
    "python": {
     "delete_cmd_postfix": "",
     "delete_cmd_prefix": "del ",
     "library": "var_list.py",
     "varRefreshCmd": "print(var_dic_list())"
    },
    "r": {
     "delete_cmd_postfix": ") ",
     "delete_cmd_prefix": "rm(",
     "library": "var_list.r",
     "varRefreshCmd": "cat(var_dic_list()) "
    }
   },
   "types_to_exclude": [
    "module",
    "function",
    "builtin_function_or_method",
    "instance",
    "_Feature"
   ],
   "window_display": false
  }
 },
 "nbformat": 4,
 "nbformat_minor": 4
}
